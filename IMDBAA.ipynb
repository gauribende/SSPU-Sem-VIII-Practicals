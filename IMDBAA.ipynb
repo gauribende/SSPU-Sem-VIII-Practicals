{
 "cells": [
  {
   "cell_type": "code",
   "execution_count": 1,
   "id": "4bdad346-e331-44bd-bd01-54ce8e211a75",
   "metadata": {},
   "outputs": [],
   "source": [
    "from keras.datasets import imdb"
   ]
  },
  {
   "cell_type": "code",
   "execution_count": 2,
   "id": "8a8a6c52-6107-4b38-9455-006c0d41b000",
   "metadata": {},
   "outputs": [],
   "source": [
    "(train_data,train_labels),(test_data,test_labels)=imdb.load_data(num_words=10000)"
   ]
  },
  {
   "cell_type": "code",
   "execution_count": 3,
   "id": "9268c6de-9b62-4e0b-a91e-c7bd76b11e75",
   "metadata": {},
   "outputs": [
    {
     "data": {
      "text/plain": [
       "9999"
      ]
     },
     "execution_count": 3,
     "metadata": {},
     "output_type": "execute_result"
    }
   ],
   "source": [
    "max([max(sequence) for sequence in train_data])"
   ]
  },
  {
   "cell_type": "raw",
   "id": "386cece7-c6ce-4264-8777-fc4cb5abd922",
   "metadata": {},
   "source": [
    "word_index=imdb.get_word_index()\n",
    "reverse_word_index=dict([(val,key)for (key,val)in word_index.items()])\n",
    "decoded_review=' '.join([reverse_word_index.get(i-3,'?')for i in train_data[0]]"
   ]
  },
  {
   "cell_type": "code",
   "execution_count": 4,
   "id": "ee40fb8f-d95b-44b3-8695-c7aa62fa94ba",
   "metadata": {},
   "outputs": [],
   "source": [
    "import numpy as np"
   ]
  },
  {
   "cell_type": "code",
   "execution_count": 5,
   "id": "c879ec21-40c6-4ba2-a421-634c3fcdf4ad",
   "metadata": {},
   "outputs": [],
   "source": [
    "def vectorize(sequences,dimension=10000):\n",
    "    results=np.zeros((len(sequences),dimension))\n",
    "    for i,sequence in enumerate(sequences):\n",
    "        results[i,sequence]=1\n",
    "    return results"
   ]
  },
  {
   "cell_type": "code",
   "execution_count": 6,
   "id": "4e81ef51-c1d1-48d6-8ab3-f71399d6e8b6",
   "metadata": {},
   "outputs": [],
   "source": [
    "x_train=vectorize(train_data)\n",
    "x_test=vectorize(test_data)\n",
    "y_train=np.asarray(train_labels).astype('float32')\n",
    "y_test=np.asarray(test_labels).astype('float32')"
   ]
  },
  {
   "cell_type": "code",
   "execution_count": 7,
   "id": "f88ff430-b876-44ea-b3a9-ece89320b801",
   "metadata": {},
   "outputs": [],
   "source": [
    "from keras import models\n",
    "from keras import layers"
   ]
  },
  {
   "cell_type": "code",
   "execution_count": 8,
   "id": "52a2e288-aebf-4a15-8378-1f1ee98123a2",
   "metadata": {},
   "outputs": [
    {
     "name": "stderr",
     "output_type": "stream",
     "text": [
      "C:\\Users\\aakan\\anaconda3\\Lib\\site-packages\\keras\\src\\layers\\core\\dense.py:87: UserWarning: Do not pass an `input_shape`/`input_dim` argument to a layer. When using Sequential models, prefer using an `Input(shape)` object as the first layer in the model instead.\n",
      "  super().__init__(activity_regularizer=activity_regularizer, **kwargs)\n"
     ]
    }
   ],
   "source": [
    "model=models.Sequential()\n",
    "model.add(layers.Dense(16,activation='relu',input_shape=(10000,)))\n",
    "model.add(layers.Dense(16,activation='relu'))\n",
    "model.add(layers.Dense(1,activation='sigmoid'))"
   ]
  },
  {
   "cell_type": "code",
   "execution_count": 9,
   "id": "50119b0c-127e-4db7-b0c8-0849054f3f61",
   "metadata": {},
   "outputs": [],
   "source": [
    "model.compile(loss='binary_crossentropy',optimizer='rmsprop',metrics=['accuracy'])"
   ]
  },
  {
   "cell_type": "code",
   "execution_count": 10,
   "id": "0f02f83e-9aa2-499b-ac64-5aae2d46e2c6",
   "metadata": {},
   "outputs": [],
   "source": [
    "x_val=x_train[:10000]\n",
    "y_val=y_train[:10000]"
   ]
  },
  {
   "cell_type": "code",
   "execution_count": 11,
   "id": "98dbe042-2782-4c12-830b-1b6aae7bd958",
   "metadata": {},
   "outputs": [],
   "source": [
    "partial_x=x_train[10000:]\n",
    "partial_y=y_train[10000:]"
   ]
  },
  {
   "cell_type": "code",
   "execution_count": 12,
   "id": "d7106a30-1b16-4b2a-95f7-9eca03e208a7",
   "metadata": {},
   "outputs": [
    {
     "name": "stdout",
     "output_type": "stream",
     "text": [
      "Epoch 1/20\n",
      "\u001b[1m30/30\u001b[0m \u001b[32m━━━━━━━━━━━━━━━━━━━━\u001b[0m\u001b[37m\u001b[0m \u001b[1m3s\u001b[0m 43ms/step - accuracy: 0.7039 - loss: 0.6258 - val_accuracy: 0.8540 - val_loss: 0.4530\n",
      "Epoch 2/20\n",
      "\u001b[1m30/30\u001b[0m \u001b[32m━━━━━━━━━━━━━━━━━━━━\u001b[0m\u001b[37m\u001b[0m \u001b[1m0s\u001b[0m 11ms/step - accuracy: 0.8849 - loss: 0.3975 - val_accuracy: 0.8793 - val_loss: 0.3431\n",
      "Epoch 3/20\n",
      "\u001b[1m30/30\u001b[0m \u001b[32m━━━━━━━━━━━━━━━━━━━━\u001b[0m\u001b[37m\u001b[0m \u001b[1m0s\u001b[0m 10ms/step - accuracy: 0.9081 - loss: 0.2886 - val_accuracy: 0.8710 - val_loss: 0.3176\n",
      "Epoch 4/20\n",
      "\u001b[1m30/30\u001b[0m \u001b[32m━━━━━━━━━━━━━━━━━━━━\u001b[0m\u001b[37m\u001b[0m \u001b[1m0s\u001b[0m 10ms/step - accuracy: 0.9275 - loss: 0.2304 - val_accuracy: 0.8890 - val_loss: 0.2821\n",
      "Epoch 5/20\n",
      "\u001b[1m30/30\u001b[0m \u001b[32m━━━━━━━━━━━━━━━━━━━━\u001b[0m\u001b[37m\u001b[0m \u001b[1m0s\u001b[0m 11ms/step - accuracy: 0.9403 - loss: 0.1874 - val_accuracy: 0.8887 - val_loss: 0.2801\n",
      "Epoch 6/20\n",
      "\u001b[1m30/30\u001b[0m \u001b[32m━━━━━━━━━━━━━━━━━━━━\u001b[0m\u001b[37m\u001b[0m \u001b[1m0s\u001b[0m 10ms/step - accuracy: 0.9485 - loss: 0.1629 - val_accuracy: 0.8860 - val_loss: 0.2800\n",
      "Epoch 7/20\n",
      "\u001b[1m30/30\u001b[0m \u001b[32m━━━━━━━━━━━━━━━━━━━━\u001b[0m\u001b[37m\u001b[0m \u001b[1m0s\u001b[0m 10ms/step - accuracy: 0.9572 - loss: 0.1393 - val_accuracy: 0.8863 - val_loss: 0.2837\n",
      "Epoch 8/20\n",
      "\u001b[1m30/30\u001b[0m \u001b[32m━━━━━━━━━━━━━━━━━━━━\u001b[0m\u001b[37m\u001b[0m \u001b[1m0s\u001b[0m 11ms/step - accuracy: 0.9632 - loss: 0.1184 - val_accuracy: 0.8792 - val_loss: 0.3064\n",
      "Epoch 9/20\n",
      "\u001b[1m30/30\u001b[0m \u001b[32m━━━━━━━━━━━━━━━━━━━━\u001b[0m\u001b[37m\u001b[0m \u001b[1m0s\u001b[0m 10ms/step - accuracy: 0.9682 - loss: 0.1037 - val_accuracy: 0.8851 - val_loss: 0.3057\n",
      "Epoch 10/20\n",
      "\u001b[1m30/30\u001b[0m \u001b[32m━━━━━━━━━━━━━━━━━━━━\u001b[0m\u001b[37m\u001b[0m \u001b[1m0s\u001b[0m 11ms/step - accuracy: 0.9755 - loss: 0.0879 - val_accuracy: 0.8694 - val_loss: 0.3618\n",
      "Epoch 11/20\n",
      "\u001b[1m30/30\u001b[0m \u001b[32m━━━━━━━━━━━━━━━━━━━━\u001b[0m\u001b[37m\u001b[0m \u001b[1m0s\u001b[0m 14ms/step - accuracy: 0.9770 - loss: 0.0803 - val_accuracy: 0.8754 - val_loss: 0.3500\n",
      "Epoch 12/20\n",
      "\u001b[1m30/30\u001b[0m \u001b[32m━━━━━━━━━━━━━━━━━━━━\u001b[0m\u001b[37m\u001b[0m \u001b[1m1s\u001b[0m 16ms/step - accuracy: 0.9835 - loss: 0.0677 - val_accuracy: 0.8757 - val_loss: 0.3631\n",
      "Epoch 13/20\n",
      "\u001b[1m30/30\u001b[0m \u001b[32m━━━━━━━━━━━━━━━━━━━━\u001b[0m\u001b[37m\u001b[0m \u001b[1m0s\u001b[0m 12ms/step - accuracy: 0.9864 - loss: 0.0586 - val_accuracy: 0.8775 - val_loss: 0.3874\n",
      "Epoch 14/20\n",
      "\u001b[1m30/30\u001b[0m \u001b[32m━━━━━━━━━━━━━━━━━━━━\u001b[0m\u001b[37m\u001b[0m \u001b[1m0s\u001b[0m 14ms/step - accuracy: 0.9902 - loss: 0.0485 - val_accuracy: 0.8725 - val_loss: 0.4081\n",
      "Epoch 15/20\n",
      "\u001b[1m30/30\u001b[0m \u001b[32m━━━━━━━━━━━━━━━━━━━━\u001b[0m\u001b[37m\u001b[0m \u001b[1m0s\u001b[0m 12ms/step - accuracy: 0.9917 - loss: 0.0417 - val_accuracy: 0.8753 - val_loss: 0.4215\n",
      "Epoch 16/20\n",
      "\u001b[1m30/30\u001b[0m \u001b[32m━━━━━━━━━━━━━━━━━━━━\u001b[0m\u001b[37m\u001b[0m \u001b[1m0s\u001b[0m 13ms/step - accuracy: 0.9934 - loss: 0.0360 - val_accuracy: 0.8747 - val_loss: 0.4430\n",
      "Epoch 17/20\n",
      "\u001b[1m30/30\u001b[0m \u001b[32m━━━━━━━━━━━━━━━━━━━━\u001b[0m\u001b[37m\u001b[0m \u001b[1m0s\u001b[0m 12ms/step - accuracy: 0.9952 - loss: 0.0291 - val_accuracy: 0.8734 - val_loss: 0.4683\n",
      "Epoch 18/20\n",
      "\u001b[1m30/30\u001b[0m \u001b[32m━━━━━━━━━━━━━━━━━━━━\u001b[0m\u001b[37m\u001b[0m \u001b[1m0s\u001b[0m 12ms/step - accuracy: 0.9968 - loss: 0.0254 - val_accuracy: 0.8679 - val_loss: 0.5064\n",
      "Epoch 19/20\n",
      "\u001b[1m30/30\u001b[0m \u001b[32m━━━━━━━━━━━━━━━━━━━━\u001b[0m\u001b[37m\u001b[0m \u001b[1m1s\u001b[0m 20ms/step - accuracy: 0.9969 - loss: 0.0215 - val_accuracy: 0.8726 - val_loss: 0.5188\n",
      "Epoch 20/20\n",
      "\u001b[1m30/30\u001b[0m \u001b[32m━━━━━━━━━━━━━━━━━━━━\u001b[0m\u001b[37m\u001b[0m \u001b[1m0s\u001b[0m 14ms/step - accuracy: 0.9981 - loss: 0.0172 - val_accuracy: 0.8719 - val_loss: 0.5359\n"
     ]
    }
   ],
   "source": [
    "history=model.fit(partial_x,partial_y,epochs=20,batch_size=512,validation_data=(x_val, y_val))"
   ]
  },
  {
   "cell_type": "code",
   "execution_count": 13,
   "id": "a2d91aca-972f-4e96-a6d1-681fc7b95afa",
   "metadata": {},
   "outputs": [
    {
     "name": "stdout",
     "output_type": "stream",
     "text": [
      "\u001b[1m782/782\u001b[0m \u001b[32m━━━━━━━━━━━━━━━━━━━━\u001b[0m\u001b[37m\u001b[0m \u001b[1m2s\u001b[0m 2ms/step - accuracy: 0.8571 - loss: 0.5890\n",
      "[0.5758289694786072, 0.8595200181007385]\n"
     ]
    }
   ],
   "source": [
    "results=model.evaluate(x_test,y_test)\n",
    "print(results)"
   ]
  },
  {
   "cell_type": "code",
   "execution_count": 14,
   "id": "f490c5a0-8fb3-4a45-b681-7ed621431be0",
   "metadata": {},
   "outputs": [
    {
     "name": "stdout",
     "output_type": "stream",
     "text": [
      "\u001b[1m782/782\u001b[0m \u001b[32m━━━━━━━━━━━━━━━━━━━━\u001b[0m\u001b[37m\u001b[0m \u001b[1m1s\u001b[0m 1ms/step\n",
      "Predicted Sentiment: Negative | Actual Sentiment: Negative\n",
      "Predicted Sentiment: Positive | Actual Sentiment: Positive\n",
      "Predicted Sentiment: Positive | Actual Sentiment: Positive\n",
      "Predicted Sentiment: Positive | Actual Sentiment: Negative\n",
      "Predicted Sentiment: Positive | Actual Sentiment: Positive\n"
     ]
    }
   ],
   "source": [
    "predictions=model.predict(x_test)\n",
    "for i in range(5):\n",
    "    predicted_sentiment=\"Positive\" if predictions[i][0] > 0.5 else \"Negative\"\n",
    "    actual_sentiment=\"Positive\" if y_test[i] == 1 else \"Negative\"\n",
    "    print(\"Predicted Sentiment:\",predicted_sentiment,\"| Actual Sentiment:\",actual_sentiment)"
   ]
  },
  {
   "cell_type": "code",
   "execution_count": null,
   "id": "a1fba4ae-8b6b-4ee2-868d-53011ec5ecbd",
   "metadata": {},
   "outputs": [],
   "source": []
  }
 ],
 "metadata": {
  "kernelspec": {
   "display_name": "Python 3 (ipykernel)",
   "language": "python",
   "name": "python3"
  },
  "language_info": {
   "codemirror_mode": {
    "name": "ipython",
    "version": 3
   },
   "file_extension": ".py",
   "mimetype": "text/x-python",
   "name": "python",
   "nbconvert_exporter": "python",
   "pygments_lexer": "ipython3",
   "version": "3.12.7"
  }
 },
 "nbformat": 4,
 "nbformat_minor": 5
}
